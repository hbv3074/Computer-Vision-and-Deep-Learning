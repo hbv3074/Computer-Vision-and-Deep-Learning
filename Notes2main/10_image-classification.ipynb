{
 "cells": [
  {
   "cell_type": "code",
   "execution_count": 1,
   "id": "f0f25c15",
   "metadata": {
    "_cell_guid": "b1076dfc-b9ad-4769-8c92-a6c4dae69d19",
    "_uuid": "8f2839f25d086af736a60e9eeb907d3b93b6e0e5",
    "execution": {
     "iopub.execute_input": "2024-11-22T10:22:44.477222Z",
     "iopub.status.busy": "2024-11-22T10:22:44.476930Z",
     "iopub.status.idle": "2024-11-22T10:22:56.620467Z",
     "shell.execute_reply": "2024-11-22T10:22:56.619754Z"
    },
    "papermill": {
     "duration": 12.149685,
     "end_time": "2024-11-22T10:22:56.622630",
     "exception": false,
     "start_time": "2024-11-22T10:22:44.472945",
     "status": "completed"
    },
    "tags": []
   },
   "outputs": [],
   "source": [
    "import numpy as np\n",
    "import tensorflow as tf\n",
    "from tensorflow.keras.models import Sequential\n",
    "from tensorflow.keras.layers import Conv2D,MaxPooling2D,Flatten,Dense,Dropout\n",
    "from tensorflow.keras.utils import to_categorical\n",
    "import matplotlib.pyplot as plt"
   ]
  },
  {
   "cell_type": "code",
   "execution_count": 2,
   "id": "2a5a33e0",
   "metadata": {
    "execution": {
     "iopub.execute_input": "2024-11-22T10:22:56.630185Z",
     "iopub.status.busy": "2024-11-22T10:22:56.629678Z",
     "iopub.status.idle": "2024-11-22T10:22:56.670049Z",
     "shell.execute_reply": "2024-11-22T10:22:56.669230Z"
    },
    "papermill": {
     "duration": 0.045962,
     "end_time": "2024-11-22T10:22:56.671759",
     "exception": false,
     "start_time": "2024-11-22T10:22:56.625797",
     "status": "completed"
    },
    "tags": []
   },
   "outputs": [],
   "source": [
    "file_path = \"/kaggle/input/mnist-dataset/mnist_compressed.npz\"\n",
    "data = np.load(file_path)"
   ]
  },
  {
   "cell_type": "code",
   "execution_count": 3,
   "id": "6b838f46",
   "metadata": {
    "execution": {
     "iopub.execute_input": "2024-11-22T10:22:56.677816Z",
     "iopub.status.busy": "2024-11-22T10:22:56.677555Z",
     "iopub.status.idle": "2024-11-22T10:22:57.494325Z",
     "shell.execute_reply": "2024-11-22T10:22:57.493368Z"
    },
    "papermill": {
     "duration": 0.822163,
     "end_time": "2024-11-22T10:22:57.496450",
     "exception": false,
     "start_time": "2024-11-22T10:22:56.674287",
     "status": "completed"
    },
    "tags": []
   },
   "outputs": [],
   "source": [
    "x_train = data['train_images']\n",
    "y_train = data['train_labels']\n",
    "x_test = data['test_images']\n",
    "y_test = data['test_labels']"
   ]
  },
  {
   "cell_type": "code",
   "execution_count": 4,
   "id": "0990b9f5",
   "metadata": {
    "execution": {
     "iopub.execute_input": "2024-11-22T10:22:57.503076Z",
     "iopub.status.busy": "2024-11-22T10:22:57.502402Z",
     "iopub.status.idle": "2024-11-22T10:22:57.652059Z",
     "shell.execute_reply": "2024-11-22T10:22:57.651376Z"
    },
    "papermill": {
     "duration": 0.154919,
     "end_time": "2024-11-22T10:22:57.654095",
     "exception": false,
     "start_time": "2024-11-22T10:22:57.499176",
     "status": "completed"
    },
    "tags": []
   },
   "outputs": [],
   "source": [
    "x_train = x_train.astype('float32')/255.0\n",
    "x_test = x_test.astype('float32')/255.0"
   ]
  },
  {
   "cell_type": "code",
   "execution_count": 5,
   "id": "64fd8bd5",
   "metadata": {
    "execution": {
     "iopub.execute_input": "2024-11-22T10:22:57.661027Z",
     "iopub.status.busy": "2024-11-22T10:22:57.660398Z",
     "iopub.status.idle": "2024-11-22T10:22:57.664601Z",
     "shell.execute_reply": "2024-11-22T10:22:57.663735Z"
    },
    "papermill": {
     "duration": 0.0093,
     "end_time": "2024-11-22T10:22:57.666334",
     "exception": false,
     "start_time": "2024-11-22T10:22:57.657034",
     "status": "completed"
    },
    "tags": []
   },
   "outputs": [],
   "source": [
    "x_train = np.expand_dims(x_train, axis = -1)\n",
    "x_test = np.expand_dims(x_test, axis = -1)"
   ]
  },
  {
   "cell_type": "code",
   "execution_count": 6,
   "id": "232e7dad",
   "metadata": {
    "execution": {
     "iopub.execute_input": "2024-11-22T10:22:57.673165Z",
     "iopub.status.busy": "2024-11-22T10:22:57.672936Z",
     "iopub.status.idle": "2024-11-22T10:22:57.720689Z",
     "shell.execute_reply": "2024-11-22T10:22:57.720035Z"
    },
    "papermill": {
     "duration": 0.053651,
     "end_time": "2024-11-22T10:22:57.722477",
     "exception": false,
     "start_time": "2024-11-22T10:22:57.668826",
     "status": "completed"
    },
    "tags": []
   },
   "outputs": [],
   "source": [
    "num_classes = len(np.unique(y_train))\n",
    "y_train = to_categorical(y_train,num_classes)\n",
    "y_test = to_categorical(y_test,num_classes)"
   ]
  },
  {
   "cell_type": "code",
   "execution_count": 7,
   "id": "92eac30c",
   "metadata": {
    "execution": {
     "iopub.execute_input": "2024-11-22T10:22:57.729867Z",
     "iopub.status.busy": "2024-11-22T10:22:57.729346Z",
     "iopub.status.idle": "2024-11-22T10:22:58.669134Z",
     "shell.execute_reply": "2024-11-22T10:22:58.668451Z"
    },
    "papermill": {
     "duration": 0.945557,
     "end_time": "2024-11-22T10:22:58.670979",
     "exception": false,
     "start_time": "2024-11-22T10:22:57.725422",
     "status": "completed"
    },
    "tags": []
   },
   "outputs": [
    {
     "name": "stderr",
     "output_type": "stream",
     "text": [
      "/opt/conda/lib/python3.10/site-packages/keras/src/layers/convolutional/base_conv.py:107: UserWarning: Do not pass an `input_shape`/`input_dim` argument to a layer. When using Sequential models, prefer using an `Input(shape)` object as the first layer in the model instead.\n",
      "  super().__init__(activity_regularizer=activity_regularizer, **kwargs)\n"
     ]
    }
   ],
   "source": [
    "model = Sequential([\n",
    "    Conv2D(32, (3,3), activation = 'relu', input_shape = x_train.shape[1:]),\n",
    "    MaxPooling2D(pool_size = (2,2)),\n",
    "    Dropout(0.25),\n",
    "\n",
    "    Conv2D(64, (3,3), activation = 'relu'),\n",
    "    MaxPooling2D(pool_size = (2,2)),\n",
    "    Dropout(0.25),\n",
    "\n",
    "    Flatten(),\n",
    "    Dense(128,activation = 'relu'),\n",
    "    Dropout(0.5),\n",
    "    Dense(num_classes,activation='softmax')\n",
    "])"
   ]
  },
  {
   "cell_type": "code",
   "execution_count": 8,
   "id": "603f4a2e",
   "metadata": {
    "execution": {
     "iopub.execute_input": "2024-11-22T10:22:58.678011Z",
     "iopub.status.busy": "2024-11-22T10:22:58.677368Z",
     "iopub.status.idle": "2024-11-22T10:22:58.689065Z",
     "shell.execute_reply": "2024-11-22T10:22:58.688459Z"
    },
    "papermill": {
     "duration": 0.016804,
     "end_time": "2024-11-22T10:22:58.690660",
     "exception": false,
     "start_time": "2024-11-22T10:22:58.673856",
     "status": "completed"
    },
    "tags": []
   },
   "outputs": [],
   "source": [
    "model.compile(optimizer = 'adam', loss ='categorical_crossentropy', metrics =['accuracy'])"
   ]
  },
  {
   "cell_type": "code",
   "execution_count": 9,
   "id": "42189ee4",
   "metadata": {
    "execution": {
     "iopub.execute_input": "2024-11-22T10:22:58.697133Z",
     "iopub.status.busy": "2024-11-22T10:22:58.696481Z",
     "iopub.status.idle": "2024-11-22T10:24:39.972126Z",
     "shell.execute_reply": "2024-11-22T10:24:39.971392Z"
    },
    "papermill": {
     "duration": 101.280903,
     "end_time": "2024-11-22T10:24:39.974166",
     "exception": false,
     "start_time": "2024-11-22T10:22:58.693263",
     "status": "completed"
    },
    "tags": []
   },
   "outputs": [
    {
     "name": "stdout",
     "output_type": "stream",
     "text": [
      "Epoch 1/20\n"
     ]
    },
    {
     "name": "stderr",
     "output_type": "stream",
     "text": [
      "WARNING: All log messages before absl::InitializeLog() is called are written to STDERR\n",
      "I0000 00:00:1732270980.973925      69 service.cc:145] XLA service 0x7a068800b040 initialized for platform CUDA (this does not guarantee that XLA will be used). Devices:\n",
      "I0000 00:00:1732270980.973974      69 service.cc:153]   StreamExecutor device (0): Tesla T4, Compute Capability 7.5\n",
      "I0000 00:00:1732270980.973978      69 service.cc:153]   StreamExecutor device (1): Tesla T4, Compute Capability 7.5\n"
     ]
    },
    {
     "name": "stdout",
     "output_type": "stream",
     "text": [
      "\u001b[1m  53/1875\u001b[0m \u001b[37m━━━━━━━━━━━━━━━━━━━━\u001b[0m \u001b[1m5s\u001b[0m 3ms/step - accuracy: 0.0096 - loss: 4.6094"
     ]
    },
    {
     "name": "stderr",
     "output_type": "stream",
     "text": [
      "I0000 00:00:1732270986.968801      69 device_compiler.h:188] Compiled cluster using XLA!  This line is logged at most once for the lifetime of the process.\n"
     ]
    },
    {
     "name": "stdout",
     "output_type": "stream",
     "text": [
      "\u001b[1m1875/1875\u001b[0m \u001b[32m━━━━━━━━━━━━━━━━━━━━\u001b[0m\u001b[37m\u001b[0m \u001b[1m13s\u001b[0m 3ms/step - accuracy: 0.3732 - loss: 2.5016 - val_accuracy: 0.9470 - val_loss: 0.1868\n",
      "Epoch 2/20\n",
      "\u001b[1m1875/1875\u001b[0m \u001b[32m━━━━━━━━━━━━━━━━━━━━\u001b[0m\u001b[37m\u001b[0m \u001b[1m5s\u001b[0m 2ms/step - accuracy: 0.8129 - loss: 0.6032 - val_accuracy: 0.9632 - val_loss: 0.1223\n",
      "Epoch 3/20\n",
      "\u001b[1m1875/1875\u001b[0m \u001b[32m━━━━━━━━━━━━━━━━━━━━\u001b[0m\u001b[37m\u001b[0m \u001b[1m5s\u001b[0m 2ms/step - accuracy: 0.8593 - loss: 0.4469 - val_accuracy: 0.9675 - val_loss: 0.1009\n",
      "Epoch 4/20\n",
      "\u001b[1m1875/1875\u001b[0m \u001b[32m━━━━━━━━━━━━━━━━━━━━\u001b[0m\u001b[37m\u001b[0m \u001b[1m5s\u001b[0m 2ms/step - accuracy: 0.8816 - loss: 0.3801 - val_accuracy: 0.9702 - val_loss: 0.0915\n",
      "Epoch 5/20\n",
      "\u001b[1m1875/1875\u001b[0m \u001b[32m━━━━━━━━━━━━━━━━━━━━\u001b[0m\u001b[37m\u001b[0m \u001b[1m5s\u001b[0m 2ms/step - accuracy: 0.8947 - loss: 0.3322 - val_accuracy: 0.9755 - val_loss: 0.0791\n",
      "Epoch 6/20\n",
      "\u001b[1m1875/1875\u001b[0m \u001b[32m━━━━━━━━━━━━━━━━━━━━\u001b[0m\u001b[37m\u001b[0m \u001b[1m5s\u001b[0m 2ms/step - accuracy: 0.9069 - loss: 0.2901 - val_accuracy: 0.9755 - val_loss: 0.0813\n",
      "Epoch 7/20\n",
      "\u001b[1m1875/1875\u001b[0m \u001b[32m━━━━━━━━━━━━━━━━━━━━\u001b[0m\u001b[37m\u001b[0m \u001b[1m5s\u001b[0m 2ms/step - accuracy: 0.9124 - loss: 0.2766 - val_accuracy: 0.9767 - val_loss: 0.0722\n",
      "Epoch 8/20\n",
      "\u001b[1m1875/1875\u001b[0m \u001b[32m━━━━━━━━━━━━━━━━━━━━\u001b[0m\u001b[37m\u001b[0m \u001b[1m5s\u001b[0m 2ms/step - accuracy: 0.9186 - loss: 0.2583 - val_accuracy: 0.9747 - val_loss: 0.0756\n",
      "Epoch 9/20\n",
      "\u001b[1m1875/1875\u001b[0m \u001b[32m━━━━━━━━━━━━━━━━━━━━\u001b[0m\u001b[37m\u001b[0m \u001b[1m5s\u001b[0m 2ms/step - accuracy: 0.9230 - loss: 0.2410 - val_accuracy: 0.9776 - val_loss: 0.0723\n",
      "Epoch 10/20\n",
      "\u001b[1m1875/1875\u001b[0m \u001b[32m━━━━━━━━━━━━━━━━━━━━\u001b[0m\u001b[37m\u001b[0m \u001b[1m5s\u001b[0m 2ms/step - accuracy: 0.9283 - loss: 0.2244 - val_accuracy: 0.9786 - val_loss: 0.0688\n",
      "Epoch 11/20\n",
      "\u001b[1m1875/1875\u001b[0m \u001b[32m━━━━━━━━━━━━━━━━━━━━\u001b[0m\u001b[37m\u001b[0m \u001b[1m5s\u001b[0m 2ms/step - accuracy: 0.9311 - loss: 0.2207 - val_accuracy: 0.9809 - val_loss: 0.0643\n",
      "Epoch 12/20\n",
      "\u001b[1m1875/1875\u001b[0m \u001b[32m━━━━━━━━━━━━━━━━━━━━\u001b[0m\u001b[37m\u001b[0m \u001b[1m5s\u001b[0m 2ms/step - accuracy: 0.9332 - loss: 0.2016 - val_accuracy: 0.9792 - val_loss: 0.0675\n",
      "Epoch 13/20\n",
      "\u001b[1m1875/1875\u001b[0m \u001b[32m━━━━━━━━━━━━━━━━━━━━\u001b[0m\u001b[37m\u001b[0m \u001b[1m5s\u001b[0m 2ms/step - accuracy: 0.9374 - loss: 0.1937 - val_accuracy: 0.9789 - val_loss: 0.0676\n",
      "Epoch 14/20\n",
      "\u001b[1m1875/1875\u001b[0m \u001b[32m━━━━━━━━━━━━━━━━━━━━\u001b[0m\u001b[37m\u001b[0m \u001b[1m5s\u001b[0m 2ms/step - accuracy: 0.9399 - loss: 0.1839 - val_accuracy: 0.9807 - val_loss: 0.0650\n",
      "Epoch 15/20\n",
      "\u001b[1m1875/1875\u001b[0m \u001b[32m━━━━━━━━━━━━━━━━━━━━\u001b[0m\u001b[37m\u001b[0m \u001b[1m5s\u001b[0m 2ms/step - accuracy: 0.9416 - loss: 0.1781 - val_accuracy: 0.9814 - val_loss: 0.0636\n",
      "Epoch 16/20\n",
      "\u001b[1m1875/1875\u001b[0m \u001b[32m━━━━━━━━━━━━━━━━━━━━\u001b[0m\u001b[37m\u001b[0m \u001b[1m5s\u001b[0m 2ms/step - accuracy: 0.9455 - loss: 0.1667 - val_accuracy: 0.9810 - val_loss: 0.0605\n",
      "Epoch 17/20\n",
      "\u001b[1m1875/1875\u001b[0m \u001b[32m━━━━━━━━━━━━━━━━━━━━\u001b[0m\u001b[37m\u001b[0m \u001b[1m5s\u001b[0m 2ms/step - accuracy: 0.9439 - loss: 0.1688 - val_accuracy: 0.9813 - val_loss: 0.0609\n",
      "Epoch 18/20\n",
      "\u001b[1m1875/1875\u001b[0m \u001b[32m━━━━━━━━━━━━━━━━━━━━\u001b[0m\u001b[37m\u001b[0m \u001b[1m5s\u001b[0m 2ms/step - accuracy: 0.9482 - loss: 0.1595 - val_accuracy: 0.9811 - val_loss: 0.0650\n",
      "Epoch 19/20\n",
      "\u001b[1m1875/1875\u001b[0m \u001b[32m━━━━━━━━━━━━━━━━━━━━\u001b[0m\u001b[37m\u001b[0m \u001b[1m5s\u001b[0m 2ms/step - accuracy: 0.9501 - loss: 0.1538 - val_accuracy: 0.9829 - val_loss: 0.0575\n",
      "Epoch 20/20\n",
      "\u001b[1m1875/1875\u001b[0m \u001b[32m━━━━━━━━━━━━━━━━━━━━\u001b[0m\u001b[37m\u001b[0m \u001b[1m5s\u001b[0m 2ms/step - accuracy: 0.9506 - loss: 0.1510 - val_accuracy: 0.9826 - val_loss: 0.0576\n"
     ]
    }
   ],
   "source": [
    "history = model.fit(x_train,y_train,validation_data = (x_test,y_test),epochs = 20, batch_size = 32)"
   ]
  },
  {
   "cell_type": "code",
   "execution_count": 10,
   "id": "217fb39b",
   "metadata": {
    "execution": {
     "iopub.execute_input": "2024-11-22T10:24:40.132305Z",
     "iopub.status.busy": "2024-11-22T10:24:40.131968Z",
     "iopub.status.idle": "2024-11-22T10:24:40.749461Z",
     "shell.execute_reply": "2024-11-22T10:24:40.748546Z"
    },
    "papermill": {
     "duration": 0.69661,
     "end_time": "2024-11-22T10:24:40.751083",
     "exception": false,
     "start_time": "2024-11-22T10:24:40.054473",
     "status": "completed"
    },
    "tags": []
   },
   "outputs": [
    {
     "name": "stdout",
     "output_type": "stream",
     "text": [
      "\u001b[1m313/313\u001b[0m \u001b[32m━━━━━━━━━━━━━━━━━━━━\u001b[0m\u001b[37m\u001b[0m \u001b[1m0s\u001b[0m 1ms/step - accuracy: 0.9820 - loss: 0.0580\n",
      "Test Accuracy: 0.9826, Test Loss: 0.0576\n"
     ]
    }
   ],
   "source": [
    "loss,accuracy = model.evaluate(x_test,y_test)\n",
    "print(f\"Test Accuracy: {accuracy:.4f}, Test Loss: {loss:.4f}\")"
   ]
  },
  {
   "cell_type": "code",
   "execution_count": 11,
   "id": "dfa4acd5",
   "metadata": {
    "execution": {
     "iopub.execute_input": "2024-11-22T10:24:40.909366Z",
     "iopub.status.busy": "2024-11-22T10:24:40.908358Z",
     "iopub.status.idle": "2024-11-22T10:24:41.567383Z",
     "shell.execute_reply": "2024-11-22T10:24:41.566576Z"
    },
    "papermill": {
     "duration": 0.740166,
     "end_time": "2024-11-22T10:24:41.569689",
     "exception": false,
     "start_time": "2024-11-22T10:24:40.829523",
     "status": "completed"
    },
    "tags": []
   },
   "outputs": [
    {
     "data": {
      "image/png": "[encoded data removed]",
      "text/plain": [
       "<Figure size 1200x500 with 2 Axes>"
      ]
     },
     "metadata": {},
     "output_type": "display_data"
    }
   ],
   "source": [
    "plt.figure(figsize=(12, 5))\n",
    "\n",
    "# Plot accuracy\n",
    "plt.subplot(1, 2, 1)\n",
    "plt.plot(history.history[\"accuracy\"], label=\"Train Accuracy\")\n",
    "plt.plot(history.history[\"val_accuracy\"], label=\"Validation Accuracy\")\n",
    "plt.xlabel(\"Epochs\")\n",
    "plt.ylabel(\"Accuracy\")\n",
    "plt.title(\"Model Accuracy\")\n",
    "plt.legend()\n",
    "\n",
    "# Plot loss\n",
    "plt.subplot(1, 2, 2)\n",
    "plt.plot(history.history[\"loss\"], label=\"Train Loss\")\n",
    "plt.plot(history.history[\"val_loss\"], label=\"Validation Loss\")\n",
    "plt.xlabel(\"Epochs\")\n",
    "plt.ylabel(\"Loss\")\n",
    "plt.title(\"Model Loss\")\n",
    "plt.legend()\n",
    "\n",
    "plt.tight_layout()\n",
    "plt.show()\n"
   ]
  },
  {
   "cell_type": "code",
   "execution_count": 12,
   "id": "cc122418",
   "metadata": {
    "execution": {
     "iopub.execute_input": "2024-11-22T10:24:41.774017Z",
     "iopub.status.busy": "2024-11-22T10:24:41.773672Z",
     "iopub.status.idle": "2024-11-22T10:24:42.320349Z",
     "shell.execute_reply": "2024-11-22T10:24:42.319208Z"
    },
    "papermill": {
     "duration": 0.672494,
     "end_time": "2024-11-22T10:24:42.323200",
     "exception": false,
     "start_time": "2024-11-22T10:24:41.650706",
     "status": "completed"
    },
    "tags": []
   },
   "outputs": [
    {
     "name": "stdout",
     "output_type": "stream",
     "text": [
      "\u001b[1m1/1\u001b[0m \u001b[32m━━━━━━━━━━━━━━━━━━━━\u001b[0m\u001b[37m\u001b[0m \u001b[1m0s\u001b[0m 364ms/step\n",
      "True Label: 34, Predicted Class: 34\n"
     ]
    },
    {
     "data": {
      "image/png": "[encoded data removed]",
      "text/plain": [
       "<Figure size 640x480 with 1 Axes>"
      ]
     },
     "metadata": {},
     "output_type": "display_data"
    }
   ],
   "source": [
    "test_index = 111\n",
    "test_image = x_test[test_index]\n",
    "test_label = np.argmax(y_test[test_index])\n",
    "\n",
    "test_image_expanded = np.expand_dims(test_image, axis = 0)\n",
    "\n",
    "predicted_probabilities = model.predict(test_image_expanded)\n",
    "predicted_class = np.argmax(predicted_probabilities)\n",
    "\n",
    "print(f\"True Label: {test_label}, Predicted Class: {predicted_class}\")\n",
    "\n",
    "plt.imshow(test_image.squeeze(),cmap = 'gray')\n",
    "plt.title(f\"True Label :{test_label}, Predicted Class: {predicted_class}\")\n",
    "plt.axis('off')\n",
    "plt.show()"
   ]
  },
  {
   "cell_type": "code",
   "execution_count": null,
   "id": "46b15bf8",
   "metadata": {
    "papermill": {
     "duration": 0.079307,
     "end_time": "2024-11-22T10:24:42.491621",
     "exception": false,
     "start_time": "2024-11-22T10:24:42.412314",
     "status": "completed"
    },
    "tags": []
   },
   "outputs": [],
   "source": []
  }
 ],
 "metadata": {
  "kaggle": {
   "accelerator": "nvidiaTeslaT4",
   "dataSources": [
    {
     "datasetId": 6141931,
     "sourceId": 9981338,
     "sourceType": "datasetVersion"
    }
   ],
   "dockerImageVersionId": 30787,
   "isGpuEnabled": true,
   "isInternetEnabled": true,
   "language": "python",
   "sourceType": "notebook"
  },
  "kernelspec": {
   "display_name": "Python 3",
   "language": "python",
   "name": "python3"
  },
  "language_info": {
   "codemirror_mode": {
    "name": "ipython",
    "version": 3
   },
   "file_extension": ".py",
   "mimetype": "text/x-python",
   "name": "python",
   "nbconvert_exporter": "python",
   "pygments_lexer": "ipython3",
   "version": "3.10.14"
  },
  "papermill": {
   "default_parameters": {},
   "duration": 122.476366,
   "end_time": "2024-11-22T10:24:44.494353",
   "environment_variables": {},
   "exception": null,
   "input_path": "__notebook__.ipynb",
   "output_path": "__notebook__.ipynb",
   "parameters": {},
   "start_time": "2024-11-22T10:22:42.017987",
   "version": "2.6.0"
  }
 },
 "nbformat": 4,
 "nbformat_minor": 5
}
